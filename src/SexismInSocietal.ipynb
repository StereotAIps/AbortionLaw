{
 "cells": [
  {
   "cell_type": "code",
   "execution_count": 1,
   "metadata": {},
   "outputs": [],
   "source": [
    "\n",
    "import torch\n",
    "from transformers import BertTokenizer, BertModel, BertForMaskedLM, AutoModelForSequenceClassification, AutoTokenizer, pipeline\n",
    "import logging\n",
    "import numpy as np\n",
    "import matplotlib.pyplot as plt\n",
    "import pandas as pd\n",
    "import re\n",
    "from afinn import Afinn\n",
    "from tqdm import tqdm\n",
    "from time import sleep\n",
    "logging.basicConfig(level=logging.INFO)# OPTIONAL"
   ]
  },
  {
   "cell_type": "code",
   "execution_count": 2,
   "metadata": {},
   "outputs": [
    {
     "name": "stdout",
     "output_type": "stream",
     "text": [
      "PyTorch version: 1.13.1\n",
      "Using device: mps\n"
     ]
    }
   ],
   "source": [
    "print(f\"PyTorch version: {torch.__version__}\")\n",
    "\n",
    "# Set the device      \n",
    "device = \"mps\" if torch.backends.mps.is_available() else torch.device(\"cuda\") if torch.cuda.is_available() else torch.device('cpu')\n",
    "print(f\"Using device: {device}\")"
   ]
  },
  {
   "cell_type": "code",
   "execution_count": 3,
   "metadata": {},
   "outputs": [],
   "source": [
    "def SexismDetector(classifier ,sentence):\n",
    "    prediction=classifier(sentence)\n",
    "    #print(sentence)\n",
    "    #print(prediction[0]['label'])\n",
    "    if(prediction[0]['label'] == \"sexist\"):\n",
    "        return 1, prediction[0]['score']\n",
    "    else: \n",
    "        return 0, prediction[0]['score']"
   ]
  },
  {
   "cell_type": "code",
   "execution_count": 4,
   "metadata": {},
   "outputs": [],
   "source": [
    "def _sum(arr):\n",
    "    sum = 0\n",
    "    for i in arr:\n",
    "        sum = sum + i\n",
    "    return(sum)"
   ]
  },
  {
   "cell_type": "code",
   "execution_count": 5,
   "metadata": {},
   "outputs": [],
   "source": [
    "class OpenPrediction():\n",
    "    def __init__(self, template_file, target_file, model_name, numAtt):\n",
    "        self.template_file = template_file\n",
    "        self.target_file = target_file\n",
    "        self.numAtt = numAtt\n",
    "        self.data = []\n",
    "        self.model = BertForMaskedLM.from_pretrained(model_name)\n",
    "        self.tokenizer = BertTokenizer.from_pretrained(model_name)\n",
    "        self.model.eval()\n",
    "        self.createTemplate()\n",
    "\n",
    "    def createTemplate(self):\n",
    "        mask = \"[MASK]\"\n",
    "        target = '<target>'\n",
    "        s='______'\n",
    "        gender = {'female':1, 'male':2} \n",
    "        dataList =[]\n",
    "        #For each sentence in the template\n",
    "        for index,row in self.template_file.iterrows():\n",
    "           \n",
    "            sentence = row.loc['template']\n",
    "            #For each target coherent with the template\n",
    "            for ind, r in self.target_file.iterrows():\n",
    "                if r.loc['target'] == row.loc['target']:\n",
    "                        adjectiveList = []\n",
    "                        #For both gender\n",
    "                        for t in gender.keys():\n",
    "                            _sentence = re.sub(target, r.loc[t], sentence)  \n",
    "                            _sentence = re.sub(s, mask, _sentence) \n",
    "                            adjectiveList = self.predict_masked_sent(_sentence) \n",
    "                            sentencesNew = []\n",
    "                            #detector_scores = []\n",
    "                            for a in adjectiveList:\n",
    "                                #print(f\"{a}\")\n",
    "                                #print(f\"{_sentence}\")\n",
    "                                comp_sentence = re.sub('\\[MASK\\]', a, _sentence)\n",
    "                                #print(f\"{comp_sentence}\")\n",
    "                                sentencesNew.append(comp_sentence)                                \n",
    "                            data=[\n",
    "                                sentence, #template\n",
    "                                r.loc[t], #subject\n",
    "                                adjectiveList, #word list\n",
    "                                sentencesNew, #sentence list\n",
    "                                #detector_scores #scores \n",
    "                            ]\n",
    "                            dataList.append(data)\n",
    "                            #print(dataList)\n",
    "        data_df = pd.DataFrame(dataList, columns=[\"template\", \"target\", \"attributes\", \"sentences\"])\n",
    "        self.data = data_df\n",
    "        #print(data_df)\n",
    "        #return dataList\n",
    "\n",
    "    #Given a number n and a sentence containing a [MASK], it generates the top n words that fits the MASK \n",
    "    def predict_masked_sent(self, text):\n",
    "        # Tokenize input\n",
    "        text = \"[CLS] %s [SEP]\"%text\n",
    "        #print(f\"text: {text}\")\n",
    "        tokenized_text = self.tokenizer.tokenize(text)\n",
    "        masked_index = tokenized_text.index(\"[MASK]\")\n",
    "        indexed_tokens = self.tokenizer.convert_tokens_to_ids(tokenized_text)\n",
    "        tokens_tensor = torch.tensor([indexed_tokens])\n",
    "        # tokens_tensor = tokens_tensor.to('cuda')    # if you have gpu\n",
    "\n",
    "        # Predict all tokens\n",
    "        with torch.no_grad():\n",
    "            outputs = self.model(tokens_tensor)\n",
    "            predictions = outputs[0]\n",
    "\n",
    "        probs = torch.nn.functional.softmax(predictions[0, masked_index], dim=-1)\n",
    "        top_k_weights, top_k_indices = torch.topk(probs, self.numAtt, sorted=True)\n",
    "\n",
    "        adjectiveList =[]\n",
    "        for i, pred_idx in enumerate(top_k_indices):\n",
    "            predicted_token = self.tokenizer.convert_ids_to_tokens([pred_idx])[0]\n",
    "            token_weight = top_k_weights[i]\n",
    "            # adjective=[\n",
    "            #     predicted_token,\n",
    "            #     float(token_weight),\n",
    "            # ]\n",
    "            adjectiveList.append(predicted_token)\n",
    "            #print(\"[MASK]: '%s'\"%predicted_token, \" | weights:\", float(token_weight)*1000)\n",
    "        return adjectiveList\n",
    "    \n",
    "    def evaluate_predictions(self):\n",
    "        sent_lbl = []\n",
    "        count = []\n",
    "        model = AutoModelForSequenceClassification.from_pretrained('NLP-LTU/bertweet-large-sexism-detector')\n",
    "        tokenizer = AutoTokenizer.from_pretrained('NLP-LTU/bertweet-large-sexism-detector') \n",
    "        classifier = pipeline(\"text-classification\", model=model, tokenizer=tokenizer)\n",
    "        #pbar = tqdm(total= self.data.size, desc='Sentences', unit='sentences')\n",
    "        for index,row in tqdm(self.data.iterrows(), total=self.data.size):\n",
    "         #   pbar.update(1) \n",
    "            sleep(0.0001)\n",
    "            adj_lbl = []\n",
    "            sent_score = []\n",
    "            for sent in row['sentences']:\n",
    "                label, score = SexismDetector(classifier, sent)\n",
    "                adj_lbl.append(label)\n",
    "                sent_score.append(score)\n",
    "                #print(f\"{sent} - [{adj_lbl} -{sent_score}] -{_sum(adj_lbl)}\")\n",
    "            count.append(_sum(adj_lbl))\n",
    "            sent_lbl.append(adj_lbl)\n",
    "        #pbar.close\n",
    "        self.data.loc[:,'sexism detector'] = sent_lbl\n",
    "        self.data.loc[:,'sexism count'] = count\n",
    "        self.data.to_csv(\"sexisminopen_results.csv\", sep=\";\")"
   ]
  },
  {
   "cell_type": "code",
   "execution_count": 6,
   "metadata": {},
   "outputs": [
    {
     "name": "stderr",
     "output_type": "stream",
     "text": [
      "Some weights of the model checkpoint at bert-base-uncased were not used when initializing BertForMaskedLM: ['cls.seq_relationship.bias', 'cls.seq_relationship.weight']\n",
      "- This IS expected if you are initializing BertForMaskedLM from the checkpoint of a model trained on another task or with another architecture (e.g. initializing a BertForSequenceClassification model from a BertForPreTraining model).\n",
      "- This IS NOT expected if you are initializing BertForMaskedLM from the checkpoint of a model that you expect to be exactly identical (initializing a BertForSequenceClassification model from a BertForSequenceClassification model).\n"
     ]
    }
   ],
   "source": [
    "templates = pd.read_csv('dataset/template_societal.csv', sep=\";\")\n",
    "target_file = pd.read_csv('dataset/template_subjects.csv', sep=\";\")\n",
    "numAtt = 10\n",
    "model_name = 'bert-base-uncased'\n",
    "evaluator = OpenPrediction(templates.copy(), target_file.copy(), model_name, numAtt)\n"
   ]
  },
  {
   "cell_type": "code",
   "execution_count": 7,
   "metadata": {},
   "outputs": [
    {
     "name": "stderr",
     "output_type": "stream",
     "text": [
      " 25%|██▌       | 1704/6816 [1:09:46<3:29:18,  2.46s/it]   \n"
     ]
    }
   ],
   "source": [
    "evaluator.evaluate_predictions()"
   ]
  }
 ],
 "metadata": {
  "kernelspec": {
   "display_name": "Python 3",
   "language": "python",
   "name": "python3"
  },
  "language_info": {
   "codemirror_mode": {
    "name": "ipython",
    "version": 3
   },
   "file_extension": ".py",
   "mimetype": "text/x-python",
   "name": "python",
   "nbconvert_exporter": "python",
   "pygments_lexer": "ipython3",
   "version": "3.9.6"
  },
  "orig_nbformat": 4
 },
 "nbformat": 4,
 "nbformat_minor": 2
}
