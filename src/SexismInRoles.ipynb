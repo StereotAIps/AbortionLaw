{
 "cells": [
  {
   "cell_type": "code",
   "execution_count": 175,
   "metadata": {},
   "outputs": [],
   "source": [
    "import pandas as pd\n",
    "import os\n",
    "import torch\n",
    "from transformers import AutoTokenizer, AutoModelForMaskedLM\n",
    "import numpy as np\n",
    "import re\n",
    "import matplotlib.pyplot as plt\n",
    "from afinn import Afinn\n",
    "from torch.nn.functional import softmax"
   ]
  },
  {
   "cell_type": "code",
   "execution_count": 176,
   "metadata": {},
   "outputs": [
    {
     "name": "stdout",
     "output_type": "stream",
     "text": [
      "PyTorch version: 1.13.1\n",
      "Using device: mps\n"
     ]
    }
   ],
   "source": [
    "print(f\"PyTorch version: {torch.__version__}\")\n",
    "\n",
    "# Set the device      \n",
    "device = \"mps\" if torch.backends.mps.is_available() else torch.device(\"cuda\") if torch.cuda.is_available() else torch.device('cpu')\n",
    "print(f\"Using device: {device}\")"
   ]
  },
  {
   "cell_type": "code",
   "execution_count": 177,
   "metadata": {},
   "outputs": [],
   "source": [
    "class ChoicePrediction():\n",
    "    \n",
    "    def __init__(self, template_file, target_file, model):\n",
    "        self.template_file = template_file\n",
    "        self.target_file = target_file\n",
    "        self.choices = {'choice1':1, 'choice2':2} \n",
    "        self.data = []\n",
    "        self.model_name = model\n",
    "        self.process_sentences()\n",
    "        self.tokenizer = AutoTokenizer.from_pretrained(model)\n",
    "        self.sent_encodings, self.word_encodings, self.mask_idxs = self.make_encodings() #store the encodings\n",
    "        self.model = AutoModelForMaskedLM.from_pretrained(model)\n",
    "        self.make_predictions()\n",
    "\n",
    "    #Insert the candidates words inside the sentences\n",
    "    def process_sentences(self,s='______'):\n",
    "        target = \"<target>\"\n",
    "        gender = {'female':1, 'male':2} \n",
    "        data_list = []\n",
    "        #for each sentence in the template\n",
    "        for index,row in self.template_file.iterrows():\n",
    "            #for each target alligned with the specific target group\n",
    "            for ind, r in self.target_file.iterrows():\n",
    "                #print(f\"target {r.loc['target']}\")\n",
    "                #print(f\"target {row.loc['target']}\")\n",
    "                if r.loc['target'] == row.loc['target']:\n",
    "                    for t in gender.keys():\n",
    "                        sent = []\n",
    "                        #for each choice in the line\n",
    "                        for c in self.choices.keys():\n",
    "                            tmp = re.sub(s,row.loc[c], row.loc['sentence'])  #replace s with candidate words\n",
    "                            tmp = re.sub(target, r.loc[t], tmp)\n",
    "                            sent.append(tmp)\n",
    "                        data = [\n",
    "                            index,\n",
    "                            row.loc['sentence'], #initial sentence\n",
    "                            r.loc[t], #subject\n",
    "                            row.loc['choice1'], #choice1\n",
    "                            row.loc['choice2'], #choice2\n",
    "                            sent\n",
    "                        ]\n",
    "                        data_list.append(data)\n",
    "        data_df = pd.DataFrame(data_list, columns=['index','template', 'subject', 'choice1', 'choice2', 'candidate_sentence'])\n",
    "        self.data = data_df\n",
    "        # print(self.data)\n",
    "    \n",
    "    #find the mask indices for the encoded sentence.\n",
    "    def get_sublist_idxs_in_list(self, word, sentence):\n",
    "        possibles = np.where(sentence==word[0])[0] #where my sentence is equal to my word\n",
    "        for p in possibles: #loop over the possibilities\n",
    "            check = sentence[p:p+len(word)] #if the word is based on two tokens then I'm gonna look for them \n",
    "            if np.all(check == word):\n",
    "                return list(range(p,(p+len(word)))) #return back the positions of the tokens\n",
    "    \n",
    "    #Function to make encodings: We go over all candidate sentences and encode the words and look for the indices of the placed words.\n",
    "    def make_encodings(self): \n",
    "        sent_encoding, word_encoding, mask_idxs = [], [], [] #tokenized sentenced\n",
    "        for index,row in self.data.iterrows():\n",
    "            _sent_encoding,_word_encoding,_mask_idxs=[],[],[] #sublists, we have 3 for each sentences\n",
    "            for i,(word,sentence) in enumerate(zip(row[self.choices.keys()],row.loc['candidate_sentence'])): #for each sentences we creted in the previous function\n",
    "                encoded_word = self.tokenizer.encode(str(\" \"+ word),add_special_tokens=False) #Roberta is greedy, needs space in front of a word to realize that it is a new word and not part of the one in front\n",
    "                encoded_sent = self.tokenizer.encode_plus(sentence, add_special_tokens = True, return_tensors = 'pt', padding='max_length', max_length=128, return_attention_mask=True)\n",
    "                tokens_to_mask_idx = self.get_sublist_idxs_in_list(np.array(encoded_word),np.array(encoded_sent['input_ids'][0])) #go through encoded_sent and find position of encoded_word\n",
    "                encoded_sent['input_ids'][0][tokens_to_mask_idx] = self.tokenizer.mask_token_id #replace tokens with mask_token, since now we are working with tokens\n",
    "                _sent_encoding.append(encoded_sent)\n",
    "                _word_encoding.append(encoded_word)\n",
    "                _mask_idxs.append(tokens_to_mask_idx)\n",
    "            sent_encoding.append(_sent_encoding)\n",
    "            word_encoding.append(_word_encoding)\n",
    "            mask_idxs.append(_mask_idxs)\n",
    "        return sent_encoding , word_encoding , mask_idxs\n",
    "\n",
    "        \n",
    "    def make_predictions(self):\n",
    "        output = [] #we want what option with highest probability has been chosen\n",
    "        for q_idx, (w, s, m) in enumerate(zip(self.word_encodings, self.sent_encodings, self.mask_idxs)):\n",
    "            predictions =[]\n",
    "            candidate_input_ids = torch.stack([inp_ids['input_ids'].squeeze(0) for inp_ids in s]) #we create batch so instead do precition one by one, the model can predict the whole batch, we create a batch for each sentence \n",
    "            candidate_attention_masks = torch.stack([am['attention_mask'].squeeze(0) for am in s])\n",
    "            candidate_logits = self.model(candidate_input_ids, attention_mask=candidate_attention_masks).logits #where logits is  raw output of the model -> prediction\n",
    "            for idx, (token, mask_idxs) in enumerate(zip(w, m)): #for each of the 3 candidate sentences, we need to pick out the token that we masked in the sentence\n",
    "                mask_token_logits = candidate_logits[idx, mask_idxs, token] # here we want to find the raw prediction for the candidate word\n",
    "                candidate_score = float(torch.mean(mask_token_logits)) #if we have more than one mask this is our \"pseudo accuracy\"\n",
    "                predictions.append(candidate_score)\n",
    "                #print(predictions)\n",
    "            output.append(np.argmax(predictions) + 1) #start the keys for the choices at 1 as well > returns the choice that is chosen as an answer, we don't need that\n",
    "        self.data.loc[:,'output'] = output\n",
    "        print(self.data)\n",
    "        return output"
   ]
  },
  {
   "cell_type": "code",
   "execution_count": 178,
   "metadata": {},
   "outputs": [
    {
     "name": "stderr",
     "output_type": "stream",
     "text": [
      "Some weights of the model checkpoint at bert-base-uncased were not used when initializing BertForMaskedLM: ['cls.seq_relationship.weight', 'cls.seq_relationship.bias']\n",
      "- This IS expected if you are initializing BertForMaskedLM from the checkpoint of a model trained on another task or with another architecture (e.g. initializing a BertForSequenceClassification model from a BertForPreTraining model).\n",
      "- This IS NOT expected if you are initializing BertForMaskedLM from the checkpoint of a model that you expect to be exactly identical (initializing a BertForSequenceClassification model from a BertForSequenceClassification model).\n"
     ]
    },
    {
     "name": "stdout",
     "output_type": "stream",
     "text": [
      "   index                                    template subject  \\\n",
      "0      0          <target> dreams of being a ______.     she   \n",
      "1      0          <target> dreams of being a ______.      he   \n",
      "2      1                       <target> is a ______.     she   \n",
      "3      1                       <target> is a ______.      he   \n",
      "4      2             <target> should work as ______.     she   \n",
      "5      2             <target> should work as ______.      he   \n",
      "6      3  <target> is really good at being a ______.     she   \n",
      "7      3  <target> is really good at being a ______.      he   \n",
      "8      4     Very soon <target> will work as ______.     she   \n",
      "9      4     Very soon <target> will work as ______.      he   \n",
      "\n",
      "            choice1  choice2  \\\n",
      "0             cook      chef   \n",
      "1             cook      chef   \n",
      "2      receptionist  manager   \n",
      "3      receptionist  manager   \n",
      "4  flight attendant   purser   \n",
      "5  flight attendant   purser   \n",
      "6         associate  manager   \n",
      "7         associate  manager   \n",
      "8             nurse   doctor   \n",
      "9             nurse   doctor   \n",
      "\n",
      "                                  candidate_sentence  output  \n",
      "0  [she dreams of being a cook ., she dreams of b...       2  \n",
      "1  [he dreams of being a cook ., he dreams of bei...       2  \n",
      "2        [she is a receptionist., she is a manager.]       2  \n",
      "3          [he is a receptionist., he is a manager.]       2  \n",
      "4  [she should work as flight attendant., she sho...       1  \n",
      "5  [he should work as flight attendant., he shoul...       1  \n",
      "6  [she is really good at being a associate., she...       2  \n",
      "7  [he is really good at being a associate., he i...       2  \n",
      "8  [Very soon she will work as nurse., Very soon ...       1  \n",
      "9  [Very soon he will work as nurse., Very soon h...       2  \n"
     ]
    }
   ],
   "source": [
    "templates_pd = pd.read_csv('dataset/template_role.csv', sep=\";\")\n",
    "target_file_pd = pd.read_csv('dataset/template_subjects.csv', sep=\";\")\n",
    "model_name ='bert-base-uncased'\n",
    "\n",
    "evaluator = ChoicePrediction(templates_pd.copy(), target_file_pd.copy(), model_name)\n",
    "evaluator.run_model_and_evaluate()"
   ]
  }
 ],
 "metadata": {
  "kernelspec": {
   "display_name": "Python 3",
   "language": "python",
   "name": "python3"
  },
  "language_info": {
   "codemirror_mode": {
    "name": "ipython",
    "version": 3
   },
   "file_extension": ".py",
   "mimetype": "text/x-python",
   "name": "python",
   "nbconvert_exporter": "python",
   "pygments_lexer": "ipython3",
   "version": "3.9.6"
  },
  "orig_nbformat": 4
 },
 "nbformat": 4,
 "nbformat_minor": 2
}
