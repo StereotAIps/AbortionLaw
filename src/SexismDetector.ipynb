{
 "cells": [
  {
   "attachments": {},
   "cell_type": "markdown",
   "metadata": {},
   "source": [
    "https://huggingface.co/NLP-LTU/bertweet-large-sexism-detector?"
   ]
  },
  {
   "cell_type": "code",
   "execution_count": 53,
   "metadata": {},
   "outputs": [],
   "source": [
    "from transformers import AutoModelForSequenceClassification, AutoTokenizer,pipeline\n",
    "import torch\n",
    "import pandas as pd\n",
    "import json"
   ]
  },
  {
   "cell_type": "code",
   "execution_count": 54,
   "metadata": {},
   "outputs": [],
   "source": [
    "model = AutoModelForSequenceClassification.from_pretrained('NLP-LTU/bertweet-large-sexism-detector')\n",
    "tokenizer = AutoTokenizer.from_pretrained('NLP-LTU/bertweet-large-sexism-detector') \n",
    "classifier = pipeline(\"text-classification\", model=model, tokenizer=tokenizer)\n",
    "prediction=classifier(\"I like cats\")"
   ]
  },
  {
   "cell_type": "code",
   "execution_count": 55,
   "metadata": {},
   "outputs": [
    {
     "name": "stdout",
     "output_type": "stream",
     "text": [
      "[{'label': 'not sexist', 'score': 0.9991477727890015}]\n"
     ]
    }
   ],
   "source": [
    "\n",
    "print(prediction)"
   ]
  },
  {
   "cell_type": "code",
   "execution_count": 56,
   "metadata": {},
   "outputs": [],
   "source": [
    "class SexismEvaluator():\n",
    "    def __init__(self, fileTweet):\n",
    "        self.model = AutoModelForSequenceClassification.from_pretrained('NLP-LTU/bertweet-large-sexism-detector')\n",
    "        self.tokenizer = AutoTokenizer.from_pretrained('NLP-LTU/bertweet-large-sexism-detector') \n",
    "        self.classifier = pipeline(\"text-classification\", model=self.model, tokenizer=self.tokenizer)\n",
    "        self.fileTweet = pd.read_csv(fileTweet, sep=\",\")\n",
    "\n",
    "    def evaluate(self, fileResult):\n",
    "        self.rateTweets(fileResult)\n",
    "\n",
    "    def rateTweets(self, fileResult):\n",
    "        datalist = []\n",
    "        for idx, tweet in self.fileTweet.iterrows():\n",
    "            date = tweet.loc[\"DateTime\"]\n",
    "            sentence = tweet.loc[\"Text\"]\n",
    "            prediction = self.classifier(sentence)\n",
    "            score = prediction[0][\"score\"]\n",
    "            sexist = prediction[0][\"label\"]\n",
    "            data=[\n",
    "                date,\n",
    "                sentence,\n",
    "                sexist,\n",
    "                score\n",
    "            ]\n",
    "            datalist.append(data)\n",
    "        tweet_df = pd.DataFrame(datalist, columns=[\"date\", \"sentence\", \"label\", \"score\"])\n",
    "        tweet_df.to_csv(f\"{fileResult}.csv\", sep=\",\")\n"
   ]
  },
  {
   "cell_type": "code",
   "execution_count": 57,
   "metadata": {},
   "outputs": [],
   "source": [
    "fileResult = \"evaluations\"\n",
    "fileTweet = \"2022-08-01_2022-08-31_100.csv\"\n",
    "evaluator = SexismEvaluator(fileTweet)\n",
    "evaluator.evaluate(fileResult)"
   ]
  }
 ],
 "metadata": {
  "kernelspec": {
   "display_name": "Python 3",
   "language": "python",
   "name": "python3"
  },
  "language_info": {
   "codemirror_mode": {
    "name": "ipython",
    "version": 3
   },
   "file_extension": ".py",
   "mimetype": "text/x-python",
   "name": "python",
   "nbconvert_exporter": "python",
   "pygments_lexer": "ipython3",
   "version": "3.9.6"
  },
  "orig_nbformat": 4
 },
 "nbformat": 4,
 "nbformat_minor": 2
}
