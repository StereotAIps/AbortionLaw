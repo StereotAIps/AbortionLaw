{
 "cells": [
  {
   "attachments": {},
   "cell_type": "markdown",
   "metadata": {},
   "source": [
    "https://huggingface.co/NLP-LTU/bertweet-large-sexism-detector?"
   ]
  },
  {
   "cell_type": "code",
   "execution_count": 99,
   "metadata": {},
   "outputs": [],
   "source": [
    "from transformers import AutoModelForSequenceClassification, AutoTokenizer,pipeline\n",
    "import torch\n",
    "import pandas as pd\n",
    "import json\n",
    "import unidecode"
   ]
  },
  {
   "cell_type": "code",
   "execution_count": 100,
   "metadata": {},
   "outputs": [],
   "source": [
    "model = AutoModelForSequenceClassification.from_pretrained('NLP-LTU/bertweet-large-sexism-detector')\n",
    "tokenizer = AutoTokenizer.from_pretrained('NLP-LTU/bertweet-large-sexism-detector') \n",
    "classifier = pipeline(\"text-classification\", model=model, tokenizer=tokenizer)\n",
    "prediction=classifier(\"She is a hore.\")"
   ]
  },
  {
   "cell_type": "code",
   "execution_count": 101,
   "metadata": {},
   "outputs": [
    {
     "name": "stdout",
     "output_type": "stream",
     "text": [
      "{'label': 'sexist', 'score': 0.9907209873199463}\n"
     ]
    }
   ],
   "source": [
    "\n",
    "print(prediction[0])"
   ]
  },
  {
   "cell_type": "code",
   "execution_count": 102,
   "metadata": {},
   "outputs": [],
   "source": [
    "def strip_accent(accented_string):\n",
    "    return unidecode.unidecode(str(accented_string))\n",
    "\n",
    "\n",
    "def HurtlexSetup():\n",
    "    language = 'en'\n",
    "    #assert language in ['it', 'fr', 'es', 'pt', 'ro', 'en']\n",
    "    hurtlex = pd.read_csv(f\"https://raw.githubusercontent.com/MilaNLProc/hurtlex/master/lexica/{language.upper()}/1.2/hurtlex_{language.upper()}.tsv\", sep=\"\\t\")\n",
    "    hurtlex = hurtlex[hurtlex[\"level\"] == \"conservative\"]\n",
    "    hurtlex[\"lemma\"] = hurtlex[\"lemma\"].apply(strip_accent)\n",
    "    #categories = set(self.hurtlex[\"category\"].unique())\n",
    "    #words = set(self.hurtlex[\"lemma\"].unique())\n",
    "    return hurtlex\n",
    "\n",
    "def get_hurtlex_category(hurtlex, lemma):\n",
    "    #print(hurtlex)\n",
    "    try:\n",
    "        return hurtlex[hurtlex[\"lemma\"] == strip_accent(lemma)][\"category\"].values[0]\n",
    "    except:\n",
    "        return ''"
   ]
  },
  {
   "cell_type": "code",
   "execution_count": 103,
   "metadata": {},
   "outputs": [
    {
     "data": {
      "text/plain": [
       "''"
      ]
     },
     "execution_count": 103,
     "metadata": {},
     "output_type": "execute_result"
    }
   ],
   "source": [
    "hurtlex = HurtlexSetup()\n",
    "get_hurtlex_category(hurtlex, \"balena\")"
   ]
  }
 ],
 "metadata": {
  "kernelspec": {
   "display_name": "Python 3",
   "language": "python",
   "name": "python3"
  },
  "language_info": {
   "codemirror_mode": {
    "name": "ipython",
    "version": 3
   },
   "file_extension": ".py",
   "mimetype": "text/x-python",
   "name": "python",
   "nbconvert_exporter": "python",
   "pygments_lexer": "ipython3",
   "version": "3.9.6"
  },
  "orig_nbformat": 4
 },
 "nbformat": 4,
 "nbformat_minor": 2
}
